{
 "cells": [
  {
   "cell_type": "code",
   "execution_count": null,
   "metadata": {},
   "outputs": [],
   "source": [
    "%matplotlib inline\n",
    "import numpy as np\n",
    "import matplotlib.pyplot as plt"
   ]
  },
  {
   "cell_type": "code",
   "execution_count": null,
   "metadata": {},
   "outputs": [],
   "source": [
    "x = np.linspace(0, 2*np.pi, 1000)   #create array with 1000 values inclusive\n",
    "\n",
    "#Functions I want to plot\n",
    "y1 = 5.5 * np.cos(2 * x) + 5.5   \n",
    "y2 = 0.020 * np.exp(x)          \n",
    "y3 = 0.25 * x**2 + 0.1 * np.sin(10 * x)   \n",
    "\n",
    "#plot my fuctions y1, y2,y3\n",
    "plt.plot(x,y1, label = 'y1')    \n",
    "plt.plot(x,y2, label = 'y2')    \n",
    "plt.plot(x,y3, label = 'y3') \n",
    "\n",
    "\n",
    "plt.xlabel('Time in ASTR 119')   #x-axis name\n",
    "plt.ylabel('Measures of Awesomeness')    #y-axis name\n",
    "plt.legend()  #shows legend of graph\n",
    "plt.show()   #makes the plot"
   ]
  }
 ],
 "metadata": {
  "kernelspec": {
   "display_name": "Python 3",
   "language": "python",
   "name": "python3"
  },
  "language_info": {
   "codemirror_mode": {
    "name": "ipython",
    "version": 3
   },
   "file_extension": ".py",
   "mimetype": "text/x-python",
   "name": "python",
   "nbconvert_exporter": "python",
   "pygments_lexer": "ipython3",
   "version": "3.8.6"
  }
 },
 "nbformat": 4,
 "nbformat_minor": 4
}
